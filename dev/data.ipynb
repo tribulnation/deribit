{
 "cells": [
  {
   "cell_type": "code",
   "execution_count": 2,
   "metadata": {},
   "outputs": [],
   "source": [
    "import os\n",
    "from typing_extensions import TypedDict, Literal, Sequence, NamedTuple\n",
    "import asyncio\n",
    "from decimal import Decimal, ROUND_HALF_DOWN\n",
    "from dataclasses import dataclass, field, asdict\n",
    "from datetime import datetime, timedelta, date\n",
    "import json\n",
    "import matplotlib.pyplot as plt\n",
    "import requests\n",
    "from pydantic import BaseModel, RootModel, TypeAdapter, ConfigDict\n",
    "import websockets\n",
    "from deribit import DERIBIT_TESTNET, DERIBIT_MAINNET, MarketData\n",
    "from deribit.market_data.options import premium_vs_expiry, premium_vs_strike\n",
    "from deribit.client import SocketClient\n",
    "from deribit.util import round2tick\n",
    "from dotenv import load_dotenv\n",
    "load_dotenv()\n",
    "\n",
    "CLIENT_ID = os.environ['DERIBIT_CLIENT_ID']\n",
    "CLIENT_SECRET = os.environ['DERIBIT_CLIENT_SECRET']"
   ]
  }
 ],
 "metadata": {
  "kernelspec": {
   "display_name": ".venv",
   "language": "python",
   "name": "python3"
  },
  "language_info": {
   "codemirror_mode": {
    "name": "ipython",
    "version": 3
   },
   "file_extension": ".py",
   "mimetype": "text/x-python",
   "name": "python",
   "nbconvert_exporter": "python",
   "pygments_lexer": "ipython3",
   "version": "3.11.10"
  }
 },
 "nbformat": 4,
 "nbformat_minor": 2
}
